{
  "cells": [
    {
      "cell_type": "markdown",
      "metadata": {
        "id": "view-in-github",
        "colab_type": "text"
      },
      "source": [
        "<a href=\"https://colab.research.google.com/github/tallwin/Naive-Bayes-Salary-data-/blob/main/Naive_bayes.ipynb\" target=\"_parent\"><img src=\"https://colab.research.google.com/assets/colab-badge.svg\" alt=\"Open In Colab\"/></a>"
      ]
    },
    {
      "cell_type": "code",
      "execution_count": null,
      "id": "ef768807",
      "metadata": {
        "ExecuteTime": {
          "end_time": "2021-12-01T12:47:23.420800Z",
          "start_time": "2021-12-01T12:47:22.357413Z"
        },
        "id": "ef768807"
      },
      "outputs": [],
      "source": [
        "#import the libraries\n",
        "import pandas as pd \n",
        "import numpy as np\n",
        "import seaborn as sns"
      ]
    },
    {
      "cell_type": "code",
      "execution_count": null,
      "id": "fdf21e6d",
      "metadata": {
        "ExecuteTime": {
          "end_time": "2021-12-01T12:47:23.509464Z",
          "start_time": "2021-12-01T12:47:23.424873Z"
        },
        "id": "fdf21e6d",
        "outputId": "e311fee6-ab3b-4bca-d3e5-6b7c05f97f5b"
      },
      "outputs": [
        {
          "data": {
            "text/html": [
              "<div>\n",
              "<style scoped>\n",
              "    .dataframe tbody tr th:only-of-type {\n",
              "        vertical-align: middle;\n",
              "    }\n",
              "\n",
              "    .dataframe tbody tr th {\n",
              "        vertical-align: top;\n",
              "    }\n",
              "\n",
              "    .dataframe thead th {\n",
              "        text-align: right;\n",
              "    }\n",
              "</style>\n",
              "<table border=\"1\" class=\"dataframe\">\n",
              "  <thead>\n",
              "    <tr style=\"text-align: right;\">\n",
              "      <th></th>\n",
              "      <th>age</th>\n",
              "      <th>workclass</th>\n",
              "      <th>education</th>\n",
              "      <th>educationno</th>\n",
              "      <th>maritalstatus</th>\n",
              "      <th>occupation</th>\n",
              "      <th>relationship</th>\n",
              "      <th>race</th>\n",
              "      <th>sex</th>\n",
              "      <th>capitalgain</th>\n",
              "      <th>capitalloss</th>\n",
              "      <th>hoursperweek</th>\n",
              "      <th>native</th>\n",
              "      <th>Salary</th>\n",
              "    </tr>\n",
              "  </thead>\n",
              "  <tbody>\n",
              "    <tr>\n",
              "      <th>0</th>\n",
              "      <td>25</td>\n",
              "      <td>Private</td>\n",
              "      <td>11th</td>\n",
              "      <td>7</td>\n",
              "      <td>Never-married</td>\n",
              "      <td>Machine-op-inspct</td>\n",
              "      <td>Own-child</td>\n",
              "      <td>Black</td>\n",
              "      <td>Male</td>\n",
              "      <td>0</td>\n",
              "      <td>0</td>\n",
              "      <td>40</td>\n",
              "      <td>United-States</td>\n",
              "      <td>&lt;=50K</td>\n",
              "    </tr>\n",
              "    <tr>\n",
              "      <th>1</th>\n",
              "      <td>38</td>\n",
              "      <td>Private</td>\n",
              "      <td>HS-grad</td>\n",
              "      <td>9</td>\n",
              "      <td>Married-civ-spouse</td>\n",
              "      <td>Farming-fishing</td>\n",
              "      <td>Husband</td>\n",
              "      <td>White</td>\n",
              "      <td>Male</td>\n",
              "      <td>0</td>\n",
              "      <td>0</td>\n",
              "      <td>50</td>\n",
              "      <td>United-States</td>\n",
              "      <td>&lt;=50K</td>\n",
              "    </tr>\n",
              "    <tr>\n",
              "      <th>2</th>\n",
              "      <td>28</td>\n",
              "      <td>Local-gov</td>\n",
              "      <td>Assoc-acdm</td>\n",
              "      <td>12</td>\n",
              "      <td>Married-civ-spouse</td>\n",
              "      <td>Protective-serv</td>\n",
              "      <td>Husband</td>\n",
              "      <td>White</td>\n",
              "      <td>Male</td>\n",
              "      <td>0</td>\n",
              "      <td>0</td>\n",
              "      <td>40</td>\n",
              "      <td>United-States</td>\n",
              "      <td>&gt;50K</td>\n",
              "    </tr>\n",
              "    <tr>\n",
              "      <th>3</th>\n",
              "      <td>44</td>\n",
              "      <td>Private</td>\n",
              "      <td>Some-college</td>\n",
              "      <td>10</td>\n",
              "      <td>Married-civ-spouse</td>\n",
              "      <td>Machine-op-inspct</td>\n",
              "      <td>Husband</td>\n",
              "      <td>Black</td>\n",
              "      <td>Male</td>\n",
              "      <td>7688</td>\n",
              "      <td>0</td>\n",
              "      <td>40</td>\n",
              "      <td>United-States</td>\n",
              "      <td>&gt;50K</td>\n",
              "    </tr>\n",
              "    <tr>\n",
              "      <th>4</th>\n",
              "      <td>34</td>\n",
              "      <td>Private</td>\n",
              "      <td>10th</td>\n",
              "      <td>6</td>\n",
              "      <td>Never-married</td>\n",
              "      <td>Other-service</td>\n",
              "      <td>Not-in-family</td>\n",
              "      <td>White</td>\n",
              "      <td>Male</td>\n",
              "      <td>0</td>\n",
              "      <td>0</td>\n",
              "      <td>30</td>\n",
              "      <td>United-States</td>\n",
              "      <td>&lt;=50K</td>\n",
              "    </tr>\n",
              "  </tbody>\n",
              "</table>\n",
              "</div>"
            ],
            "text/plain": [
              "   age   workclass      education  educationno        maritalstatus  \\\n",
              "0   25     Private           11th            7        Never-married   \n",
              "1   38     Private        HS-grad            9   Married-civ-spouse   \n",
              "2   28   Local-gov     Assoc-acdm           12   Married-civ-spouse   \n",
              "3   44     Private   Some-college           10   Married-civ-spouse   \n",
              "4   34     Private           10th            6        Never-married   \n",
              "\n",
              "           occupation    relationship    race    sex  capitalgain  \\\n",
              "0   Machine-op-inspct       Own-child   Black   Male            0   \n",
              "1     Farming-fishing         Husband   White   Male            0   \n",
              "2     Protective-serv         Husband   White   Male            0   \n",
              "3   Machine-op-inspct         Husband   Black   Male         7688   \n",
              "4       Other-service   Not-in-family   White   Male            0   \n",
              "\n",
              "   capitalloss  hoursperweek          native  Salary  \n",
              "0            0            40   United-States   <=50K  \n",
              "1            0            50   United-States   <=50K  \n",
              "2            0            40   United-States    >50K  \n",
              "3            0            40   United-States    >50K  \n",
              "4            0            30   United-States   <=50K  "
            ]
          },
          "execution_count": 2,
          "metadata": {},
          "output_type": "execute_result"
        }
      ],
      "source": [
        "#training dataset\n",
        "salary_train=pd.read_csv(\"SalaryData_Test.csv\")\n",
        "salary_train.head()"
      ]
    },
    {
      "cell_type": "code",
      "execution_count": null,
      "id": "4fa65f7d",
      "metadata": {
        "ExecuteTime": {
          "end_time": "2021-12-01T12:47:23.636245Z",
          "start_time": "2021-12-01T12:47:23.513068Z"
        },
        "id": "4fa65f7d",
        "outputId": "91c15cdd-8842-4132-d0f0-36f1ec44903a"
      },
      "outputs": [
        {
          "data": {
            "text/html": [
              "<div>\n",
              "<style scoped>\n",
              "    .dataframe tbody tr th:only-of-type {\n",
              "        vertical-align: middle;\n",
              "    }\n",
              "\n",
              "    .dataframe tbody tr th {\n",
              "        vertical-align: top;\n",
              "    }\n",
              "\n",
              "    .dataframe thead th {\n",
              "        text-align: right;\n",
              "    }\n",
              "</style>\n",
              "<table border=\"1\" class=\"dataframe\">\n",
              "  <thead>\n",
              "    <tr style=\"text-align: right;\">\n",
              "      <th></th>\n",
              "      <th>age</th>\n",
              "      <th>workclass</th>\n",
              "      <th>education</th>\n",
              "      <th>educationno</th>\n",
              "      <th>maritalstatus</th>\n",
              "      <th>occupation</th>\n",
              "      <th>relationship</th>\n",
              "      <th>race</th>\n",
              "      <th>sex</th>\n",
              "      <th>capitalgain</th>\n",
              "      <th>capitalloss</th>\n",
              "      <th>hoursperweek</th>\n",
              "      <th>native</th>\n",
              "      <th>Salary</th>\n",
              "    </tr>\n",
              "  </thead>\n",
              "  <tbody>\n",
              "    <tr>\n",
              "      <th>0</th>\n",
              "      <td>39</td>\n",
              "      <td>State-gov</td>\n",
              "      <td>Bachelors</td>\n",
              "      <td>13</td>\n",
              "      <td>Never-married</td>\n",
              "      <td>Adm-clerical</td>\n",
              "      <td>Not-in-family</td>\n",
              "      <td>White</td>\n",
              "      <td>Male</td>\n",
              "      <td>2174</td>\n",
              "      <td>0</td>\n",
              "      <td>40</td>\n",
              "      <td>United-States</td>\n",
              "      <td>&lt;=50K</td>\n",
              "    </tr>\n",
              "    <tr>\n",
              "      <th>1</th>\n",
              "      <td>50</td>\n",
              "      <td>Self-emp-not-inc</td>\n",
              "      <td>Bachelors</td>\n",
              "      <td>13</td>\n",
              "      <td>Married-civ-spouse</td>\n",
              "      <td>Exec-managerial</td>\n",
              "      <td>Husband</td>\n",
              "      <td>White</td>\n",
              "      <td>Male</td>\n",
              "      <td>0</td>\n",
              "      <td>0</td>\n",
              "      <td>13</td>\n",
              "      <td>United-States</td>\n",
              "      <td>&lt;=50K</td>\n",
              "    </tr>\n",
              "    <tr>\n",
              "      <th>2</th>\n",
              "      <td>38</td>\n",
              "      <td>Private</td>\n",
              "      <td>HS-grad</td>\n",
              "      <td>9</td>\n",
              "      <td>Divorced</td>\n",
              "      <td>Handlers-cleaners</td>\n",
              "      <td>Not-in-family</td>\n",
              "      <td>White</td>\n",
              "      <td>Male</td>\n",
              "      <td>0</td>\n",
              "      <td>0</td>\n",
              "      <td>40</td>\n",
              "      <td>United-States</td>\n",
              "      <td>&lt;=50K</td>\n",
              "    </tr>\n",
              "    <tr>\n",
              "      <th>3</th>\n",
              "      <td>53</td>\n",
              "      <td>Private</td>\n",
              "      <td>11th</td>\n",
              "      <td>7</td>\n",
              "      <td>Married-civ-spouse</td>\n",
              "      <td>Handlers-cleaners</td>\n",
              "      <td>Husband</td>\n",
              "      <td>Black</td>\n",
              "      <td>Male</td>\n",
              "      <td>0</td>\n",
              "      <td>0</td>\n",
              "      <td>40</td>\n",
              "      <td>United-States</td>\n",
              "      <td>&lt;=50K</td>\n",
              "    </tr>\n",
              "    <tr>\n",
              "      <th>4</th>\n",
              "      <td>28</td>\n",
              "      <td>Private</td>\n",
              "      <td>Bachelors</td>\n",
              "      <td>13</td>\n",
              "      <td>Married-civ-spouse</td>\n",
              "      <td>Prof-specialty</td>\n",
              "      <td>Wife</td>\n",
              "      <td>Black</td>\n",
              "      <td>Female</td>\n",
              "      <td>0</td>\n",
              "      <td>0</td>\n",
              "      <td>40</td>\n",
              "      <td>Cuba</td>\n",
              "      <td>&lt;=50K</td>\n",
              "    </tr>\n",
              "  </tbody>\n",
              "</table>\n",
              "</div>"
            ],
            "text/plain": [
              "   age          workclass   education  educationno        maritalstatus  \\\n",
              "0   39          State-gov   Bachelors           13        Never-married   \n",
              "1   50   Self-emp-not-inc   Bachelors           13   Married-civ-spouse   \n",
              "2   38            Private     HS-grad            9             Divorced   \n",
              "3   53            Private        11th            7   Married-civ-spouse   \n",
              "4   28            Private   Bachelors           13   Married-civ-spouse   \n",
              "\n",
              "           occupation    relationship    race      sex  capitalgain  \\\n",
              "0        Adm-clerical   Not-in-family   White     Male         2174   \n",
              "1     Exec-managerial         Husband   White     Male            0   \n",
              "2   Handlers-cleaners   Not-in-family   White     Male            0   \n",
              "3   Handlers-cleaners         Husband   Black     Male            0   \n",
              "4      Prof-specialty            Wife   Black   Female            0   \n",
              "\n",
              "   capitalloss  hoursperweek          native  Salary  \n",
              "0            0            40   United-States   <=50K  \n",
              "1            0            13   United-States   <=50K  \n",
              "2            0            40   United-States   <=50K  \n",
              "3            0            40   United-States   <=50K  \n",
              "4            0            40            Cuba   <=50K  "
            ]
          },
          "execution_count": 3,
          "metadata": {},
          "output_type": "execute_result"
        }
      ],
      "source": [
        "#testing dataset\n",
        "salary_test=pd.read_csv(\"SalaryData_Train.csv\")\n",
        "salary_test.head()"
      ]
    },
    {
      "cell_type": "code",
      "execution_count": null,
      "id": "5b8dc128",
      "metadata": {
        "id": "5b8dc128",
        "outputId": "7df6bbb9-c6dd-41d9-c41e-29456e7f8420"
      },
      "outputs": [
        {
          "data": {
            "text/html": [
              "<div>\n",
              "<style scoped>\n",
              "    .dataframe tbody tr th:only-of-type {\n",
              "        vertical-align: middle;\n",
              "    }\n",
              "\n",
              "    .dataframe tbody tr th {\n",
              "        vertical-align: top;\n",
              "    }\n",
              "\n",
              "    .dataframe thead th {\n",
              "        text-align: right;\n",
              "    }\n",
              "</style>\n",
              "<table border=\"1\" class=\"dataframe\">\n",
              "  <thead>\n",
              "    <tr style=\"text-align: right;\">\n",
              "      <th></th>\n",
              "      <th>age</th>\n",
              "      <th>educationno</th>\n",
              "      <th>capitalgain</th>\n",
              "      <th>capitalloss</th>\n",
              "      <th>hoursperweek</th>\n",
              "    </tr>\n",
              "  </thead>\n",
              "  <tbody>\n",
              "    <tr>\n",
              "      <th>count</th>\n",
              "      <td>15060.000000</td>\n",
              "      <td>15060.000000</td>\n",
              "      <td>15060.000000</td>\n",
              "      <td>15060.000000</td>\n",
              "      <td>15060.000000</td>\n",
              "    </tr>\n",
              "    <tr>\n",
              "      <th>mean</th>\n",
              "      <td>38.768327</td>\n",
              "      <td>10.112749</td>\n",
              "      <td>1120.301594</td>\n",
              "      <td>89.041899</td>\n",
              "      <td>40.951594</td>\n",
              "    </tr>\n",
              "    <tr>\n",
              "      <th>std</th>\n",
              "      <td>13.380676</td>\n",
              "      <td>2.558727</td>\n",
              "      <td>7703.181842</td>\n",
              "      <td>406.283245</td>\n",
              "      <td>12.062831</td>\n",
              "    </tr>\n",
              "    <tr>\n",
              "      <th>min</th>\n",
              "      <td>17.000000</td>\n",
              "      <td>1.000000</td>\n",
              "      <td>0.000000</td>\n",
              "      <td>0.000000</td>\n",
              "      <td>1.000000</td>\n",
              "    </tr>\n",
              "    <tr>\n",
              "      <th>25%</th>\n",
              "      <td>28.000000</td>\n",
              "      <td>9.000000</td>\n",
              "      <td>0.000000</td>\n",
              "      <td>0.000000</td>\n",
              "      <td>40.000000</td>\n",
              "    </tr>\n",
              "    <tr>\n",
              "      <th>50%</th>\n",
              "      <td>37.000000</td>\n",
              "      <td>10.000000</td>\n",
              "      <td>0.000000</td>\n",
              "      <td>0.000000</td>\n",
              "      <td>40.000000</td>\n",
              "    </tr>\n",
              "    <tr>\n",
              "      <th>75%</th>\n",
              "      <td>48.000000</td>\n",
              "      <td>13.000000</td>\n",
              "      <td>0.000000</td>\n",
              "      <td>0.000000</td>\n",
              "      <td>45.000000</td>\n",
              "    </tr>\n",
              "    <tr>\n",
              "      <th>max</th>\n",
              "      <td>90.000000</td>\n",
              "      <td>16.000000</td>\n",
              "      <td>99999.000000</td>\n",
              "      <td>3770.000000</td>\n",
              "      <td>99.000000</td>\n",
              "    </tr>\n",
              "  </tbody>\n",
              "</table>\n",
              "</div>"
            ],
            "text/plain": [
              "                age   educationno   capitalgain   capitalloss  hoursperweek\n",
              "count  15060.000000  15060.000000  15060.000000  15060.000000  15060.000000\n",
              "mean      38.768327     10.112749   1120.301594     89.041899     40.951594\n",
              "std       13.380676      2.558727   7703.181842    406.283245     12.062831\n",
              "min       17.000000      1.000000      0.000000      0.000000      1.000000\n",
              "25%       28.000000      9.000000      0.000000      0.000000     40.000000\n",
              "50%       37.000000     10.000000      0.000000      0.000000     40.000000\n",
              "75%       48.000000     13.000000      0.000000      0.000000     45.000000\n",
              "max       90.000000     16.000000  99999.000000   3770.000000     99.000000"
            ]
          },
          "execution_count": 4,
          "metadata": {},
          "output_type": "execute_result"
        }
      ],
      "source": [
        "salary_train.describe()"
      ]
    },
    {
      "cell_type": "code",
      "execution_count": null,
      "id": "1112676e",
      "metadata": {
        "id": "1112676e",
        "outputId": "631f19f9-3545-4f68-b25a-6c1db1224340"
      },
      "outputs": [
        {
          "data": {
            "text/html": [
              "<div>\n",
              "<style scoped>\n",
              "    .dataframe tbody tr th:only-of-type {\n",
              "        vertical-align: middle;\n",
              "    }\n",
              "\n",
              "    .dataframe tbody tr th {\n",
              "        vertical-align: top;\n",
              "    }\n",
              "\n",
              "    .dataframe thead th {\n",
              "        text-align: right;\n",
              "    }\n",
              "</style>\n",
              "<table border=\"1\" class=\"dataframe\">\n",
              "  <thead>\n",
              "    <tr style=\"text-align: right;\">\n",
              "      <th></th>\n",
              "      <th>age</th>\n",
              "      <th>educationno</th>\n",
              "      <th>capitalgain</th>\n",
              "      <th>capitalloss</th>\n",
              "      <th>hoursperweek</th>\n",
              "    </tr>\n",
              "  </thead>\n",
              "  <tbody>\n",
              "    <tr>\n",
              "      <th>count</th>\n",
              "      <td>30161.000000</td>\n",
              "      <td>30161.000000</td>\n",
              "      <td>30161.000000</td>\n",
              "      <td>30161.000000</td>\n",
              "      <td>30161.000000</td>\n",
              "    </tr>\n",
              "    <tr>\n",
              "      <th>mean</th>\n",
              "      <td>38.438115</td>\n",
              "      <td>10.121316</td>\n",
              "      <td>1092.044064</td>\n",
              "      <td>88.302311</td>\n",
              "      <td>40.931269</td>\n",
              "    </tr>\n",
              "    <tr>\n",
              "      <th>std</th>\n",
              "      <td>13.134830</td>\n",
              "      <td>2.550037</td>\n",
              "      <td>7406.466611</td>\n",
              "      <td>404.121321</td>\n",
              "      <td>11.980182</td>\n",
              "    </tr>\n",
              "    <tr>\n",
              "      <th>min</th>\n",
              "      <td>17.000000</td>\n",
              "      <td>1.000000</td>\n",
              "      <td>0.000000</td>\n",
              "      <td>0.000000</td>\n",
              "      <td>1.000000</td>\n",
              "    </tr>\n",
              "    <tr>\n",
              "      <th>25%</th>\n",
              "      <td>28.000000</td>\n",
              "      <td>9.000000</td>\n",
              "      <td>0.000000</td>\n",
              "      <td>0.000000</td>\n",
              "      <td>40.000000</td>\n",
              "    </tr>\n",
              "    <tr>\n",
              "      <th>50%</th>\n",
              "      <td>37.000000</td>\n",
              "      <td>10.000000</td>\n",
              "      <td>0.000000</td>\n",
              "      <td>0.000000</td>\n",
              "      <td>40.000000</td>\n",
              "    </tr>\n",
              "    <tr>\n",
              "      <th>75%</th>\n",
              "      <td>47.000000</td>\n",
              "      <td>13.000000</td>\n",
              "      <td>0.000000</td>\n",
              "      <td>0.000000</td>\n",
              "      <td>45.000000</td>\n",
              "    </tr>\n",
              "    <tr>\n",
              "      <th>max</th>\n",
              "      <td>90.000000</td>\n",
              "      <td>16.000000</td>\n",
              "      <td>99999.000000</td>\n",
              "      <td>4356.000000</td>\n",
              "      <td>99.000000</td>\n",
              "    </tr>\n",
              "  </tbody>\n",
              "</table>\n",
              "</div>"
            ],
            "text/plain": [
              "                age   educationno   capitalgain   capitalloss  hoursperweek\n",
              "count  30161.000000  30161.000000  30161.000000  30161.000000  30161.000000\n",
              "mean      38.438115     10.121316   1092.044064     88.302311     40.931269\n",
              "std       13.134830      2.550037   7406.466611    404.121321     11.980182\n",
              "min       17.000000      1.000000      0.000000      0.000000      1.000000\n",
              "25%       28.000000      9.000000      0.000000      0.000000     40.000000\n",
              "50%       37.000000     10.000000      0.000000      0.000000     40.000000\n",
              "75%       47.000000     13.000000      0.000000      0.000000     45.000000\n",
              "max       90.000000     16.000000  99999.000000   4356.000000     99.000000"
            ]
          },
          "execution_count": 5,
          "metadata": {},
          "output_type": "execute_result"
        }
      ],
      "source": [
        "salary_test.describe()"
      ]
    },
    {
      "cell_type": "code",
      "execution_count": null,
      "id": "7997ed4c",
      "metadata": {
        "ExecuteTime": {
          "end_time": "2021-12-01T12:47:23.717079Z",
          "start_time": "2021-12-01T12:47:23.670444Z"
        },
        "id": "7997ed4c",
        "outputId": "ec2c6ea6-5780-4f20-851a-b747266c20f8"
      },
      "outputs": [
        {
          "name": "stdout",
          "output_type": "stream",
          "text": [
            "<class 'pandas.core.frame.DataFrame'>\n",
            "RangeIndex: 15060 entries, 0 to 15059\n",
            "Data columns (total 14 columns):\n",
            " #   Column         Non-Null Count  Dtype \n",
            "---  ------         --------------  ----- \n",
            " 0   age            15060 non-null  int64 \n",
            " 1   workclass      15060 non-null  object\n",
            " 2   education      15060 non-null  object\n",
            " 3   educationno    15060 non-null  int64 \n",
            " 4   maritalstatus  15060 non-null  object\n",
            " 5   occupation     15060 non-null  object\n",
            " 6   relationship   15060 non-null  object\n",
            " 7   race           15060 non-null  object\n",
            " 8   sex            15060 non-null  object\n",
            " 9   capitalgain    15060 non-null  int64 \n",
            " 10  capitalloss    15060 non-null  int64 \n",
            " 11  hoursperweek   15060 non-null  int64 \n",
            " 12  native         15060 non-null  object\n",
            " 13  Salary         15060 non-null  object\n",
            "dtypes: int64(5), object(9)\n",
            "memory usage: 1.6+ MB\n"
          ]
        }
      ],
      "source": [
        "salary_train.info()"
      ]
    },
    {
      "cell_type": "code",
      "execution_count": null,
      "id": "38a10059",
      "metadata": {
        "ExecuteTime": {
          "end_time": "2021-12-01T12:47:23.764189Z",
          "start_time": "2021-12-01T12:47:23.720080Z"
        },
        "id": "38a10059",
        "outputId": "61179b0c-bf33-4866-9c1a-4d0352c39e1f"
      },
      "outputs": [
        {
          "name": "stdout",
          "output_type": "stream",
          "text": [
            "<class 'pandas.core.frame.DataFrame'>\n",
            "RangeIndex: 30161 entries, 0 to 30160\n",
            "Data columns (total 14 columns):\n",
            " #   Column         Non-Null Count  Dtype \n",
            "---  ------         --------------  ----- \n",
            " 0   age            30161 non-null  int64 \n",
            " 1   workclass      30161 non-null  object\n",
            " 2   education      30161 non-null  object\n",
            " 3   educationno    30161 non-null  int64 \n",
            " 4   maritalstatus  30161 non-null  object\n",
            " 5   occupation     30161 non-null  object\n",
            " 6   relationship   30161 non-null  object\n",
            " 7   race           30161 non-null  object\n",
            " 8   sex            30161 non-null  object\n",
            " 9   capitalgain    30161 non-null  int64 \n",
            " 10  capitalloss    30161 non-null  int64 \n",
            " 11  hoursperweek   30161 non-null  int64 \n",
            " 12  native         30161 non-null  object\n",
            " 13  Salary         30161 non-null  object\n",
            "dtypes: int64(5), object(9)\n",
            "memory usage: 3.2+ MB\n"
          ]
        }
      ],
      "source": [
        "salary_test.info()"
      ]
    },
    {
      "cell_type": "code",
      "execution_count": null,
      "id": "3e0f3ad6",
      "metadata": {
        "ExecuteTime": {
          "end_time": "2021-12-01T12:47:25.309702Z",
          "start_time": "2021-12-01T12:47:23.768704Z"
        },
        "id": "3e0f3ad6"
      },
      "outputs": [],
      "source": [
        "#label encoding \n",
        "from sklearn.preprocessing import LabelEncoder"
      ]
    },
    {
      "cell_type": "code",
      "execution_count": null,
      "id": "413dd64b",
      "metadata": {
        "ExecuteTime": {
          "end_time": "2021-12-01T12:47:25.393357Z",
          "start_time": "2021-12-01T12:47:25.310268Z"
        },
        "id": "413dd64b"
      },
      "outputs": [],
      "source": [
        "columns=[\"workclass\",\"education\",\"maritalstatus\",\"occupation\",\"relationship\",\"race\",\"sex\",\"native\"]\n",
        "le=LabelEncoder()\n",
        "for i in columns:\n",
        "    salary_train[i]=le.fit_transform(salary_train[i])\n",
        "    salary_test[i]=le.fit_transform(salary_test[i])"
      ]
    },
    {
      "cell_type": "code",
      "execution_count": null,
      "id": "0f5a3927",
      "metadata": {
        "ExecuteTime": {
          "end_time": "2021-12-01T12:47:25.409307Z",
          "start_time": "2021-12-01T12:47:25.393357Z"
        },
        "id": "0f5a3927",
        "outputId": "f5cf11ba-58d3-4819-dd60-ee2bb1a96ac4"
      },
      "outputs": [
        {
          "data": {
            "text/html": [
              "<div>\n",
              "<style scoped>\n",
              "    .dataframe tbody tr th:only-of-type {\n",
              "        vertical-align: middle;\n",
              "    }\n",
              "\n",
              "    .dataframe tbody tr th {\n",
              "        vertical-align: top;\n",
              "    }\n",
              "\n",
              "    .dataframe thead th {\n",
              "        text-align: right;\n",
              "    }\n",
              "</style>\n",
              "<table border=\"1\" class=\"dataframe\">\n",
              "  <thead>\n",
              "    <tr style=\"text-align: right;\">\n",
              "      <th></th>\n",
              "      <th>age</th>\n",
              "      <th>workclass</th>\n",
              "      <th>education</th>\n",
              "      <th>educationno</th>\n",
              "      <th>maritalstatus</th>\n",
              "      <th>occupation</th>\n",
              "      <th>relationship</th>\n",
              "      <th>race</th>\n",
              "      <th>sex</th>\n",
              "      <th>capitalgain</th>\n",
              "      <th>capitalloss</th>\n",
              "      <th>hoursperweek</th>\n",
              "      <th>native</th>\n",
              "      <th>Salary</th>\n",
              "    </tr>\n",
              "  </thead>\n",
              "  <tbody>\n",
              "    <tr>\n",
              "      <th>0</th>\n",
              "      <td>25</td>\n",
              "      <td>2</td>\n",
              "      <td>1</td>\n",
              "      <td>7</td>\n",
              "      <td>4</td>\n",
              "      <td>6</td>\n",
              "      <td>3</td>\n",
              "      <td>2</td>\n",
              "      <td>1</td>\n",
              "      <td>0</td>\n",
              "      <td>0</td>\n",
              "      <td>40</td>\n",
              "      <td>37</td>\n",
              "      <td>&lt;=50K</td>\n",
              "    </tr>\n",
              "    <tr>\n",
              "      <th>1</th>\n",
              "      <td>38</td>\n",
              "      <td>2</td>\n",
              "      <td>11</td>\n",
              "      <td>9</td>\n",
              "      <td>2</td>\n",
              "      <td>4</td>\n",
              "      <td>0</td>\n",
              "      <td>4</td>\n",
              "      <td>1</td>\n",
              "      <td>0</td>\n",
              "      <td>0</td>\n",
              "      <td>50</td>\n",
              "      <td>37</td>\n",
              "      <td>&lt;=50K</td>\n",
              "    </tr>\n",
              "    <tr>\n",
              "      <th>2</th>\n",
              "      <td>28</td>\n",
              "      <td>1</td>\n",
              "      <td>7</td>\n",
              "      <td>12</td>\n",
              "      <td>2</td>\n",
              "      <td>10</td>\n",
              "      <td>0</td>\n",
              "      <td>4</td>\n",
              "      <td>1</td>\n",
              "      <td>0</td>\n",
              "      <td>0</td>\n",
              "      <td>40</td>\n",
              "      <td>37</td>\n",
              "      <td>&gt;50K</td>\n",
              "    </tr>\n",
              "    <tr>\n",
              "      <th>3</th>\n",
              "      <td>44</td>\n",
              "      <td>2</td>\n",
              "      <td>15</td>\n",
              "      <td>10</td>\n",
              "      <td>2</td>\n",
              "      <td>6</td>\n",
              "      <td>0</td>\n",
              "      <td>2</td>\n",
              "      <td>1</td>\n",
              "      <td>7688</td>\n",
              "      <td>0</td>\n",
              "      <td>40</td>\n",
              "      <td>37</td>\n",
              "      <td>&gt;50K</td>\n",
              "    </tr>\n",
              "    <tr>\n",
              "      <th>4</th>\n",
              "      <td>34</td>\n",
              "      <td>2</td>\n",
              "      <td>0</td>\n",
              "      <td>6</td>\n",
              "      <td>4</td>\n",
              "      <td>7</td>\n",
              "      <td>1</td>\n",
              "      <td>4</td>\n",
              "      <td>1</td>\n",
              "      <td>0</td>\n",
              "      <td>0</td>\n",
              "      <td>30</td>\n",
              "      <td>37</td>\n",
              "      <td>&lt;=50K</td>\n",
              "    </tr>\n",
              "  </tbody>\n",
              "</table>\n",
              "</div>"
            ],
            "text/plain": [
              "   age  workclass  education  educationno  maritalstatus  occupation  \\\n",
              "0   25          2          1            7              4           6   \n",
              "1   38          2         11            9              2           4   \n",
              "2   28          1          7           12              2          10   \n",
              "3   44          2         15           10              2           6   \n",
              "4   34          2          0            6              4           7   \n",
              "\n",
              "   relationship  race  sex  capitalgain  capitalloss  hoursperweek  native  \\\n",
              "0             3     2    1            0            0            40      37   \n",
              "1             0     4    1            0            0            50      37   \n",
              "2             0     4    1            0            0            40      37   \n",
              "3             0     2    1         7688            0            40      37   \n",
              "4             1     4    1            0            0            30      37   \n",
              "\n",
              "   Salary  \n",
              "0   <=50K  \n",
              "1   <=50K  \n",
              "2    >50K  \n",
              "3    >50K  \n",
              "4   <=50K  "
            ]
          },
          "execution_count": 10,
          "metadata": {},
          "output_type": "execute_result"
        }
      ],
      "source": [
        "salary_train.head()"
      ]
    },
    {
      "cell_type": "code",
      "execution_count": null,
      "id": "1e088c06",
      "metadata": {
        "ExecuteTime": {
          "end_time": "2021-12-01T12:47:25.436159Z",
          "start_time": "2021-12-01T12:47:25.413277Z"
        },
        "id": "1e088c06",
        "outputId": "e9fa7f29-9c97-4bd9-8646-fec20d8b8922"
      },
      "outputs": [
        {
          "data": {
            "text/html": [
              "<div>\n",
              "<style scoped>\n",
              "    .dataframe tbody tr th:only-of-type {\n",
              "        vertical-align: middle;\n",
              "    }\n",
              "\n",
              "    .dataframe tbody tr th {\n",
              "        vertical-align: top;\n",
              "    }\n",
              "\n",
              "    .dataframe thead th {\n",
              "        text-align: right;\n",
              "    }\n",
              "</style>\n",
              "<table border=\"1\" class=\"dataframe\">\n",
              "  <thead>\n",
              "    <tr style=\"text-align: right;\">\n",
              "      <th></th>\n",
              "      <th>age</th>\n",
              "      <th>workclass</th>\n",
              "      <th>education</th>\n",
              "      <th>educationno</th>\n",
              "      <th>maritalstatus</th>\n",
              "      <th>occupation</th>\n",
              "      <th>relationship</th>\n",
              "      <th>race</th>\n",
              "      <th>sex</th>\n",
              "      <th>capitalgain</th>\n",
              "      <th>capitalloss</th>\n",
              "      <th>hoursperweek</th>\n",
              "      <th>native</th>\n",
              "      <th>Salary</th>\n",
              "    </tr>\n",
              "  </thead>\n",
              "  <tbody>\n",
              "    <tr>\n",
              "      <th>0</th>\n",
              "      <td>39</td>\n",
              "      <td>5</td>\n",
              "      <td>9</td>\n",
              "      <td>13</td>\n",
              "      <td>4</td>\n",
              "      <td>0</td>\n",
              "      <td>1</td>\n",
              "      <td>4</td>\n",
              "      <td>1</td>\n",
              "      <td>2174</td>\n",
              "      <td>0</td>\n",
              "      <td>40</td>\n",
              "      <td>37</td>\n",
              "      <td>&lt;=50K</td>\n",
              "    </tr>\n",
              "    <tr>\n",
              "      <th>1</th>\n",
              "      <td>50</td>\n",
              "      <td>4</td>\n",
              "      <td>9</td>\n",
              "      <td>13</td>\n",
              "      <td>2</td>\n",
              "      <td>3</td>\n",
              "      <td>0</td>\n",
              "      <td>4</td>\n",
              "      <td>1</td>\n",
              "      <td>0</td>\n",
              "      <td>0</td>\n",
              "      <td>13</td>\n",
              "      <td>37</td>\n",
              "      <td>&lt;=50K</td>\n",
              "    </tr>\n",
              "    <tr>\n",
              "      <th>2</th>\n",
              "      <td>38</td>\n",
              "      <td>2</td>\n",
              "      <td>11</td>\n",
              "      <td>9</td>\n",
              "      <td>0</td>\n",
              "      <td>5</td>\n",
              "      <td>1</td>\n",
              "      <td>4</td>\n",
              "      <td>1</td>\n",
              "      <td>0</td>\n",
              "      <td>0</td>\n",
              "      <td>40</td>\n",
              "      <td>37</td>\n",
              "      <td>&lt;=50K</td>\n",
              "    </tr>\n",
              "    <tr>\n",
              "      <th>3</th>\n",
              "      <td>53</td>\n",
              "      <td>2</td>\n",
              "      <td>1</td>\n",
              "      <td>7</td>\n",
              "      <td>2</td>\n",
              "      <td>5</td>\n",
              "      <td>0</td>\n",
              "      <td>2</td>\n",
              "      <td>1</td>\n",
              "      <td>0</td>\n",
              "      <td>0</td>\n",
              "      <td>40</td>\n",
              "      <td>37</td>\n",
              "      <td>&lt;=50K</td>\n",
              "    </tr>\n",
              "    <tr>\n",
              "      <th>4</th>\n",
              "      <td>28</td>\n",
              "      <td>2</td>\n",
              "      <td>9</td>\n",
              "      <td>13</td>\n",
              "      <td>2</td>\n",
              "      <td>9</td>\n",
              "      <td>5</td>\n",
              "      <td>2</td>\n",
              "      <td>0</td>\n",
              "      <td>0</td>\n",
              "      <td>0</td>\n",
              "      <td>40</td>\n",
              "      <td>4</td>\n",
              "      <td>&lt;=50K</td>\n",
              "    </tr>\n",
              "  </tbody>\n",
              "</table>\n",
              "</div>"
            ],
            "text/plain": [
              "   age  workclass  education  educationno  maritalstatus  occupation  \\\n",
              "0   39          5          9           13              4           0   \n",
              "1   50          4          9           13              2           3   \n",
              "2   38          2         11            9              0           5   \n",
              "3   53          2          1            7              2           5   \n",
              "4   28          2          9           13              2           9   \n",
              "\n",
              "   relationship  race  sex  capitalgain  capitalloss  hoursperweek  native  \\\n",
              "0             1     4    1         2174            0            40      37   \n",
              "1             0     4    1            0            0            13      37   \n",
              "2             1     4    1            0            0            40      37   \n",
              "3             0     2    1            0            0            40      37   \n",
              "4             5     2    0            0            0            40       4   \n",
              "\n",
              "   Salary  \n",
              "0   <=50K  \n",
              "1   <=50K  \n",
              "2   <=50K  \n",
              "3   <=50K  \n",
              "4   <=50K  "
            ]
          },
          "execution_count": 11,
          "metadata": {},
          "output_type": "execute_result"
        }
      ],
      "source": [
        "salary_test.head()"
      ]
    },
    {
      "cell_type": "code",
      "execution_count": null,
      "id": "fecdbb81",
      "metadata": {
        "ExecuteTime": {
          "end_time": "2021-12-01T12:47:25.451496Z",
          "start_time": "2021-12-01T12:47:25.438155Z"
        },
        "id": "fecdbb81"
      },
      "outputs": [],
      "source": [
        "# splitting X and y into training sets\n",
        "x_train=salary_train.iloc[:,0:13]\n",
        "y_train=salary_train.iloc[:,13]"
      ]
    },
    {
      "cell_type": "code",
      "execution_count": null,
      "id": "9e60815e",
      "metadata": {
        "ExecuteTime": {
          "end_time": "2021-12-01T12:47:25.466882Z",
          "start_time": "2021-12-01T12:47:25.452688Z"
        },
        "id": "9e60815e"
      },
      "outputs": [],
      "source": [
        "# splitting X and y into testing sets\n",
        "x_test=salary_test.iloc[:,0:13]\n",
        "y_test=salary_test.iloc[:,13]"
      ]
    },
    {
      "cell_type": "code",
      "execution_count": null,
      "id": "32faf4df",
      "metadata": {
        "ExecuteTime": {
          "end_time": "2021-12-01T12:47:26.344379Z",
          "start_time": "2021-12-01T12:47:25.960284Z"
        },
        "id": "32faf4df",
        "outputId": "e032f818-b220-4f2a-e153-52313f723106"
      },
      "outputs": [
        {
          "data": {
            "text/plain": [
              "<AxesSubplot:xlabel='occupation', ylabel='Count'>"
            ]
          },
          "execution_count": 14,
          "metadata": {},
          "output_type": "execute_result"
        },
        {
          "data": {
            "image/png": "[encoded data removed]",
            "text/plain": [
              "<Figure size 432x288 with 1 Axes>"
            ]
          },
          "metadata": {
            "needs_background": "light"
          },
          "output_type": "display_data"
        }
      ],
      "source": [
        "sns.histplot(data=salary_train,x=\"occupation\",hue=\"Salary\")"
      ]
    },
    {
      "cell_type": "code",
      "execution_count": null,
      "id": "4cc99d44",
      "metadata": {
        "ExecuteTime": {
          "end_time": "2021-12-01T12:47:26.985625Z",
          "start_time": "2021-12-01T12:47:26.758090Z"
        },
        "id": "4cc99d44",
        "outputId": "e92a4cfc-e483-4198-b6a7-e41547f6a6bd"
      },
      "outputs": [
        {
          "data": {
            "text/plain": [
              "<AxesSubplot:xlabel='occupation', ylabel='Count'>"
            ]
          },
          "execution_count": 15,
          "metadata": {},
          "output_type": "execute_result"
        },
        {
          "data": {
            "image/png": "[encoded data removed]",
            "text/plain": [
              "<Figure size 432x288 with 1 Axes>"
            ]
          },
          "metadata": {
            "needs_background": "light"
          },
          "output_type": "display_data"
        }
      ],
      "source": [
        "sns.histplot(data=salary_test,x=\"occupation\",hue=\"Salary\")"
      ]
    },
    {
      "cell_type": "markdown",
      "id": "26ba35fd",
      "metadata": {
        "id": "26ba35fd"
      },
      "source": [
        "Gaussian naive bayes"
      ]
    },
    {
      "cell_type": "code",
      "execution_count": null,
      "id": "76be058b",
      "metadata": {
        "ExecuteTime": {
          "end_time": "2021-12-01T12:47:27.035674Z",
          "start_time": "2021-12-01T12:47:26.985625Z"
        },
        "id": "76be058b",
        "outputId": "8978390f-6782-4fc5-8452-1c7fee6d176a"
      },
      "outputs": [
        {
          "data": {
            "text/plain": [
              "GaussianNB()"
            ]
          },
          "execution_count": 16,
          "metadata": {},
          "output_type": "execute_result"
        }
      ],
      "source": [
        "# training the model on training set\n",
        "from sklearn.naive_bayes import GaussianNB\n",
        "classifier = GaussianNB()\n",
        "classifier.fit(x_train, y_train)"
      ]
    },
    {
      "cell_type": "code",
      "execution_count": null,
      "id": "cd2e1f1d",
      "metadata": {
        "ExecuteTime": {
          "end_time": "2021-12-01T12:47:27.079375Z",
          "start_time": "2021-12-01T12:47:27.035674Z"
        },
        "id": "cd2e1f1d",
        "outputId": "cc4cfc26-cb8c-4403-e891-8d9f0d07fdad"
      },
      "outputs": [
        {
          "data": {
            "text/plain": [
              "array([' <=50K', ' <=50K', ' <=50K', ..., ' <=50K', ' >50K', ' <=50K'],\n",
              "      dtype='<U6')"
            ]
          },
          "execution_count": 17,
          "metadata": {},
          "output_type": "execute_result"
        }
      ],
      "source": [
        "y_pred = classifier.predict(x_train)\n",
        "y_pred"
      ]
    },
    {
      "cell_type": "code",
      "execution_count": null,
      "id": "548c71e1",
      "metadata": {
        "id": "548c71e1"
      },
      "outputs": [],
      "source": [
        "#import required libraries\n",
        "from sklearn import metrics\n",
        "from sklearn.metrics import plot_confusion_matrix,classification_report"
      ]
    },
    {
      "cell_type": "code",
      "execution_count": null,
      "id": "23a98535",
      "metadata": {
        "id": "23a98535",
        "outputId": "74dbd8c4-0d00-4448-c2b6-329c562fbb93"
      },
      "outputs": [
        {
          "name": "stdout",
          "output_type": "stream",
          "text": [
            "Gaussian Naive Bayes model accuracy(in %): 79.42231075697211\n"
          ]
        }
      ],
      "source": [
        "# comparing actual response values (y_train) with predicted response values (y_pred)\n",
        "print(\"Gaussian Naive Bayes model accuracy(in %):\", metrics.accuracy_score(y_train, y_pred)*100)"
      ]
    },
    {
      "cell_type": "code",
      "execution_count": null,
      "id": "c8c0e9e5",
      "metadata": {
        "id": "c8c0e9e5",
        "outputId": "3e0ac1b1-2a66-4908-b679-e55619330cfd"
      },
      "outputs": [
        {
          "data": {
            "text/plain": [
              "array([' <=50K', ' <=50K', ' <=50K', ..., ' <=50K', ' <=50K', ' >50K'],\n",
              "      dtype='<U6')"
            ]
          },
          "execution_count": 20,
          "metadata": {},
          "output_type": "execute_result"
        }
      ],
      "source": [
        "# making predictions on the testing set\n",
        "y_pred = classifier.predict(x_test)\n",
        "y_pred"
      ]
    },
    {
      "cell_type": "code",
      "execution_count": null,
      "id": "1922a91f",
      "metadata": {
        "id": "1922a91f",
        "outputId": "1bf78d8b-e177-423e-dfd6-d3591d1023e1"
      },
      "outputs": [
        {
          "name": "stdout",
          "output_type": "stream",
          "text": [
            "Gaussian Naive Bayes model accuracy(in %): 79.43370577898611\n"
          ]
        }
      ],
      "source": [
        "# comparing actual response values (y_test) with predicted response values (y_pred)\n",
        "print(\"Gaussian Naive Bayes model accuracy(in %):\", metrics.accuracy_score(y_test, y_pred)*100)"
      ]
    },
    {
      "cell_type": "markdown",
      "id": "5a4fbcf2",
      "metadata": {
        "id": "5a4fbcf2"
      },
      "source": [
        "Multinomial naive bayes"
      ]
    },
    {
      "cell_type": "code",
      "execution_count": null,
      "id": "c132adf5",
      "metadata": {
        "id": "c132adf5"
      },
      "outputs": [],
      "source": [
        "from sklearn.naive_bayes import MultinomialNB as MB"
      ]
    },
    {
      "cell_type": "code",
      "execution_count": null,
      "id": "24f79c30",
      "metadata": {
        "id": "24f79c30"
      },
      "outputs": [],
      "source": [
        "mb=MB()\n",
        "mb.fit(x_train,y_train)\n",
        "pred_mb=mb.predict(x_test)"
      ]
    },
    {
      "cell_type": "code",
      "execution_count": null,
      "id": "0b4c4a84",
      "metadata": {
        "id": "0b4c4a84",
        "outputId": "285df10b-a91f-4788-8a55-a5290a56911c"
      },
      "outputs": [
        {
          "data": {
            "text/plain": [
              "array([' >50K', ' <=50K', ' <=50K', ..., ' <=50K', ' <=50K', ' >50K'],\n",
              "      dtype='<U6')"
            ]
          },
          "execution_count": 24,
          "metadata": {},
          "output_type": "execute_result"
        }
      ],
      "source": [
        "pred_mb"
      ]
    },
    {
      "cell_type": "code",
      "execution_count": null,
      "id": "5defd3ed",
      "metadata": {
        "id": "5defd3ed",
        "outputId": "cea9316b-cc9f-4d9c-a991-ff27e8677e1b"
      },
      "outputs": [
        {
          "data": {
            "text/plain": [
              "0.7729186698053778"
            ]
          },
          "execution_count": 25,
          "metadata": {},
          "output_type": "execute_result"
        }
      ],
      "source": [
        "accuracy_multi=np.mean(pred_mb==y_test)\n",
        "accuracy_multi"
      ]
    },
    {
      "cell_type": "code",
      "execution_count": null,
      "id": "2bd4fb4c",
      "metadata": {
        "id": "2bd4fb4c"
      },
      "outputs": [],
      "source": [
        "def report(model):\n",
        "    preds=model.predict(x_test)\n",
        "    print(classification_report(y_test,preds))\n",
        "    plot_confusion_matrix(model,x_test,y_test)"
      ]
    },
    {
      "cell_type": "code",
      "execution_count": null,
      "id": "09dcbb29",
      "metadata": {
        "id": "09dcbb29",
        "outputId": "6ab472b9-6b54-4aba-bf8b-d150f64e427c"
      },
      "outputs": [
        {
          "name": "stdout",
          "output_type": "stream",
          "text": [
            "              precision    recall  f1-score   support\n",
            "\n",
            "       <=50K       0.79      0.96      0.86     22653\n",
            "        >50K       0.63      0.21      0.32      7508\n",
            "\n",
            "    accuracy                           0.77     30161\n",
            "   macro avg       0.71      0.59      0.59     30161\n",
            "weighted avg       0.75      0.77      0.73     30161\n",
            "\n"
          ]
        },
        {
          "data": {
            "image/png": "[encoded data removed]",
            "text/plain": [
              "<Figure size 432x288 with 2 Axes>"
            ]
          },
          "metadata": {
            "needs_background": "light"
          },
          "output_type": "display_data"
        }
      ],
      "source": [
        "report(mb)"
      ]
    }
  ],
  "metadata": {
    "kernelspec": {
      "display_name": "Python 3 (ipykernel)",
      "language": "python",
      "name": "python3"
    },
    "language_info": {
      "codemirror_mode": {
        "name": "ipython",
        "version": 3
      },
      "file_extension": ".py",
      "mimetype": "text/x-python",
      "name": "python",
      "nbconvert_exporter": "python",
      "pygments_lexer": "ipython3",
      "version": "3.8.8"
    },
    "varInspector": {
      "cols": {
        "lenName": 16,
        "lenType": 16,
        "lenVar": 40
      },
      "kernels_config": {
        "python": {
          "delete_cmd_postfix": "",
          "delete_cmd_prefix": "del ",
          "library": "var_list.py",
          "varRefreshCmd": "print(var_dic_list())"
        },
        "r": {
          "delete_cmd_postfix": ") ",
          "delete_cmd_prefix": "rm(",
          "library": "var_list.r",
          "varRefreshCmd": "cat(var_dic_list()) "
        }
      },
      "types_to_exclude": [
        "module",
        "function",
        "builtin_function_or_method",
        "instance",
        "_Feature"
      ],
      "window_display": false
    },
    "colab": {
      "name": "Naive bayes.ipynb",
      "provenance": [],
      "include_colab_link": true
    }
  },
  "nbformat": 4,
  "nbformat_minor": 5
}